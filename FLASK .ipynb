{
 "cells": [
  {
   "cell_type": "code",
   "execution_count": 1,
   "id": "0fb834eb",
   "metadata": {},
   "outputs": [
    {
     "name": "stderr",
     "output_type": "stream",
     "text": [
      "C:\\Users\\HP\\anaconda3\\Lib\\site-packages\\paramiko\\transport.py:219: CryptographyDeprecationWarning: Blowfish has been deprecated\n",
      "  \"class\": algorithms.Blowfish,\n"
     ]
    }
   ],
   "source": [
    "from flask import Flask, render_template, request, jsonify\n",
    "import pickle\n",
    "from twilio.rest import Client\n",
    "import os\n",
    "from skimage import io, color, transform\n",
    "import numpy as np\n",
    "from scipy.stats import zscore\n",
    "import matplotlib.pyplot as plt\n",
    "from io import BytesIO\n",
    "import base64"
   ]
  },
  {
   "cell_type": "code",
   "execution_count": 2,
   "id": "fd8f96d6",
   "metadata": {},
   "outputs": [],
   "source": [
    "app = Flask(__name__)"
   ]
  },
  {
   "cell_type": "code",
   "execution_count": 3,
   "id": "e5b75c4c",
   "metadata": {},
   "outputs": [],
   "source": [
    " # %run StatisticalModeling.ipynb"
   ]
  },
  {
   "cell_type": "code",
   "execution_count": 4,
   "id": "06e66c01",
   "metadata": {},
   "outputs": [],
   "source": [
    "# Twilio credentials\n",
    "account_sid = 'ACed01a9eeb39c2db1219e854f01a82054'\n",
    "auth_token = 'cbb3534e2f5ab5c5342cf09063067eec'\n",
    "twilio_phone_number = '+12053465799'\n",
    "user_phone_number = '+918950910576'\n",
    "\n",
    "client = Client(account_sid, auth_token)"
   ]
  },
  {
   "cell_type": "code",
   "execution_count": 5,
   "id": "d1dd1124",
   "metadata": {},
   "outputs": [],
   "source": [
    "def Z_Score_Value(Value):\n",
    "    mean = 158668.18606839626\n",
    "    std = 264941.5785563747\n",
    "    Z_score = (Value - mean)/std\n",
    "    Threshold_value = 12.40\n",
    "    \n",
    "    if Z_score >= Threshold_value:\n",
    "        return 1\n",
    "    else:\n",
    "        return 0\n",
    "    \n",
    "def Tukey_Fences_Values(Value):\n",
    "    Q1 = 12149.490000000002\n",
    "    Q3 = 213762.15000000002\n",
    "    IQR = Q3 - Q1\n",
    "    tukey_threshold = 16.00 * IQR\n",
    "    \n",
    "    if Value < Q1 - tukey_threshold or  Value > Q3 + tukey_threshold:\n",
    "        return 1\n",
    "    else:\n",
    "        return 0\n",
    "    \n",
    "    \n",
    "def modified_zscore_values(value):\n",
    "    median = 76345.78\n",
    "    median_absolute_deviation = np.median(np.abs(value - median))\n",
    "    modified_z_score = np.abs(0.6745 * (value - median) / median_absolute_deviation)\n",
    "    threshold = 32.30\n",
    "    \n",
    "    if modified_z_score > threshold:\n",
    "        return 1\n",
    "    else:\n",
    "        return 0"
   ]
  },
  {
   "cell_type": "code",
   "execution_count": 6,
   "id": "463a4491",
   "metadata": {},
   "outputs": [],
   "source": [
    "@app.route('/')\n",
    "def index():\n",
    "    return render_template('index.html')"
   ]
  },
  {
   "cell_type": "code",
   "execution_count": 7,
   "id": "b721168e",
   "metadata": {},
   "outputs": [],
   "source": [
    "@app.route('/predict_anomaly', methods=['POST'])\n",
    "def predict_anomaly():\n",
    "    try:\n",
    "        selected_function = request.json['selectedFunction']\n",
    "        payment_type = request.json['paymentType']\n",
    "        old_balance = request.json['oldBalance']\n",
    "        amount = request.json['amount']\n",
    "\n",
    "        # Choose the selected function\n",
    "        if selected_function == 'modified_zscore':\n",
    "            prediction = modified_zscore_values(amount)\n",
    "        elif selected_function == 'tukey_fences':\n",
    "            prediction = Tukey_Fences_Values(old_balance)\n",
    "        elif selected_function == 'z_score':\n",
    "            prediction = Z_Score_Value(amount)\n",
    "        else:\n",
    "            raise ValueError('Invalid function selected')\n",
    "\n",
    "        # Simulate updating the balance (replace with your actual logic)\n",
    "        current_balance = old_balance - amount if payment_type == 'debit' else old_balance + amount\n",
    "        \n",
    "         # Send SMS if prediction is 1 (anomaly)\n",
    "        if prediction == 1:\n",
    "            send_sms(f'Fraud detected! Payment Type: {payment_type}, Old Balance: {old_balance}, Amount: {amount}')\n",
    "\n",
    "        return jsonify({'prediction': prediction, 'currentBalance': current_balance})\n",
    "\n",
    "    except Exception as e:\n",
    "        return jsonify({'error': str(e)})\n",
    "    \n",
    "\n",
    "def send_sms(message):\n",
    "    try:\n",
    "        message = client.messages.create(\n",
    "            to=user_phone_number,\n",
    "            from_=twilio_phone_number,\n",
    "            body=message\n",
    "        )\n",
    "        print(f\"Message sent successfully. SID: {message.sid}\")\n",
    "    except Exception as e:\n",
    "        print(f\"Error sending SMS: {e}\")"
   ]
  },
  {
   "cell_type": "code",
   "execution_count": 8,
   "id": "62cd1074",
   "metadata": {},
   "outputs": [],
   "source": [
    "with open('xgb_model.pkl', 'rb') as model_file:\n",
    "    model = pickle.load(model_file)\n",
    "    "
   ]
  },
  {
   "cell_type": "code",
   "execution_count": 9,
   "id": "49b4ba93",
   "metadata": {},
   "outputs": [],
   "source": [
    "@app.route('/machinelearning')\n",
    "def machinelearning():\n",
    "    return render_template('machinelearning.html')\n",
    "\n",
    "@app.route('/machinelearningpredict', methods=['POST'])\n",
    "def machinelearningpredict():\n",
    "    type_of_payment = request.form['type_of_payment']\n",
    "    old_balance = float(request.form['old_balance'])\n",
    "    amount = float(request.form['amount'])\n",
    "\n",
    "    # Map type_of_payment to encoded values\n",
    "    payment_mapping = {'cash_out': 1, 'payment': 3, 'cash_in': 0, 'transfer': 4, 'debit': 2}\n",
    "    encoded_payment = payment_mapping.get(type_of_payment.lower(), 0)\n",
    "\n",
    "    # Create new_balance variable\n",
    "    new_balance = old_balance + amount\n",
    "\n",
    "    # Make prediction\n",
    "    prediction = model.predict([[encoded_payment, amount, old_balance, new_balance]])\n",
    "\n",
    "    # Display the result on the HTML page\n",
    "    if prediction[0] == 0:\n",
    "        result = 'Not Fraud'\n",
    "    else:\n",
    "        result = 'Fraud Transaction'\n",
    "        send_sms(f'Fraud detected! Payment Type: {type_of_payment}, Old Balance: {old_balance}, Amount: {amount}')\n",
    "    return render_template('machinelearning.html', result=result)\n",
    "\n",
    "def send_sms(message):\n",
    "    try:\n",
    "        message = client.messages.create(\n",
    "            to=user_phone_number,\n",
    "            from_=twilio_phone_number,\n",
    "            body=message\n",
    "        )\n",
    "        print(f\"Message sent successfully. SID: {message.sid}\")\n",
    "    except Exception as e:\n",
    "        print(f\"Error sending SMS: {e}\")"
   ]
  },
  {
   "cell_type": "code",
   "execution_count": 10,
   "id": "66638e6c",
   "metadata": {},
   "outputs": [],
   "source": [
    "from PIL import Image\n",
    "\n",
    "def is_anomaly(image_path):\n",
    "    # Open the image using Pillow\n",
    "    image = Image.open(image_path)\n",
    "\n",
    "    # Convert the image to a NumPy array\n",
    "    image_data = np.array(image)\n",
    "\n",
    "    # Flatten the 2D array to 1D for simplicity (modify based on your actual data structure)\n",
    "    flattened_data = image_data.flatten()\n",
    "\n",
    "    # Calculate Z-score for each pixel\n",
    "    z_scores = (flattened_data - np.mean(flattened_data)) / np.std(flattened_data)\n",
    "    \n",
    "    threshold = 0.3547328492\n",
    "\n",
    "    # Set anomaly flag based on threshold\n",
    "    anomalies = np.abs(z_scores) > threshold\n",
    "    return anomalies\n",
    "\n",
    "@app.route('/detect_anomaly', methods=['GET', 'POST'])\n",
    "\n",
    "def detect_anomaly():\n",
    "    if request.method == 'POST':\n",
    "        # Get the uploaded image file\n",
    "        image_file = request.files['image']\n",
    "\n",
    "        # Read image data\n",
    "        if image_file:\n",
    "            # Save the uploaded image to a temporary file\n",
    "            image_path = \"temp_image.jpg\"  # Change the extension based on the uploaded image format\n",
    "            image_file.save(image_path)\n",
    "\n",
    "            # Check for anomalies\n",
    "            anomalies = is_anomaly(image_path)\n",
    "\n",
    "            # Render the result on the web page\n",
    "            return render_template('imageres.html', anomalies=anomalies.any())\n",
    "\n",
    "        # If no image file is provided\n",
    "        return render_template('imageind.html', error=\"Please upload an image.\")\n",
    "\n",
    "    # If the request method is 'GET'\n",
    "    return render_template('imageind.html')"
   ]
  },
  {
   "cell_type": "code",
   "execution_count": null,
   "id": "2c2b51d8",
   "metadata": {},
   "outputs": [
    {
     "name": "stdout",
     "output_type": "stream",
     "text": [
      " * Serving Flask app '__main__'\n",
      " * Debug mode: off\n"
     ]
    },
    {
     "name": "stderr",
     "output_type": "stream",
     "text": [
      "WARNING: This is a development server. Do not use it in a production deployment. Use a production WSGI server instead.\n",
      " * Running on all addresses (0.0.0.0)\n",
      " * Running on http://127.0.0.1:5000\n",
      " * Running on http://192.168.1.35:5000\n",
      "Press CTRL+C to quit\n",
      "127.0.0.1 - - [17/Dec/2023 17:29:24] \"GET / HTTP/1.1\" 200 -\n",
      "127.0.0.1 - - [17/Dec/2023 17:29:33] \"POST /predict_anomaly HTTP/1.1\" 200 -\n"
     ]
    },
    {
     "name": "stdout",
     "output_type": "stream",
     "text": [
      "Message sent successfully. SID: SM2dbfdc866817cdc08736677fb35ea784\n"
     ]
    }
   ],
   "source": [
    "if __name__ == '__main__':\n",
    "    app.run(host=\"0.0.0.0\")"
   ]
  },
  {
   "cell_type": "code",
   "execution_count": null,
   "id": "3b37b0d3",
   "metadata": {},
   "outputs": [],
   "source": []
  }
 ],
 "metadata": {
  "kernelspec": {
   "display_name": "Python 3 (ipykernel)",
   "language": "python",
   "name": "python3"
  },
  "language_info": {
   "codemirror_mode": {
    "name": "ipython",
    "version": 3
   },
   "file_extension": ".py",
   "mimetype": "text/x-python",
   "name": "python",
   "nbconvert_exporter": "python",
   "pygments_lexer": "ipython3",
   "version": "3.11.4"
  }
 },
 "nbformat": 4,
 "nbformat_minor": 5
}
